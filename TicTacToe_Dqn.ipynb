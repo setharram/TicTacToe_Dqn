{
  "nbformat": 4,
  "nbformat_minor": 0,
  "metadata": {
    "colab": {
      "name": "TicTacToe_Dqn.ipynb",
      "provenance": [],
      "collapsed_sections": []
    },
    "kernelspec": {
      "name": "python3",
      "display_name": "Python 3"
    },
    "language_info": {
      "name": "python"
    },
    "accelerator": "GPU"
  },
  "cells": [
    {
      "cell_type": "code",
      "metadata": {
        "id": "Nw3zP9NuqxF5"
      },
      "source": [
        "# importing  TicTacToe class from environment file\n",
        "import collections\n",
        "import numpy as np\n",
        "import random\n",
        "import pickle\n",
        "import time\n",
        "from matplotlib import pyplot as plt\n",
        "from collections import deque\n",
        "# for building DQN model\n",
        "from keras import layers\n",
        "from keras import Sequential\n",
        "from keras.layers import Dense, Activation, Flatten\n",
        "from keras.optimizers import Adam"
      ],
      "execution_count": 1,
      "outputs": []
    },
    {
      "cell_type": "code",
      "metadata": {
        "colab": {
          "base_uri": "https://localhost:8080/",
          "height": 265
        },
        "id": "z3WgiQRlrCMq",
        "outputId": "3e2f8f3e-e303-418f-bce7-7fc505b0b3b2"
      },
      "source": [
        "EPISODES = 5000\n",
        "max_epsilon = 1.0\n",
        "min_epsilon = 0.01\n",
        "decay_rate = -0.0005       # epsilon decay rate\n",
        "epsilon = []\n",
        "episd = np.arange(0,EPISODES)\n",
        "for i in range(0,EPISODES):\n",
        "    epsilon.append(min_epsilon + (max_epsilon - min_epsilon) * np.exp(decay_rate*i))\n",
        "\n",
        "plt.plot(episd, epsilon)\n",
        "plt.show()"
      ],
      "execution_count": 8,
      "outputs": [
        {
          "output_type": "display_data",
          "data": {
            "image/png": "[encoded data removed]",
            "text/plain": [
              "<Figure size 432x288 with 1 Axes>"
            ]
          },
          "metadata": {
            "tags": [],
            "needs_background": "light"
          }
        }
      ]
    },
    {
      "cell_type": "code",
      "metadata": {
        "id": "8Af68Gl4rEDc"
      },
      "source": [
        "# Defining a function which will return valid (all possible actions) actions corresponding to a state\n",
        "# Important to avoid errors during deployment.\n",
        "def valid_actions(state):\n",
        "    valid_Actions = []\n",
        "    # calling action_space to get all possible actions\n",
        "    valid_Actions = [i for i in env.action_space(state)[0]]\n",
        "    return valid_Actions"
      ],
      "execution_count": 3,
      "outputs": []
    },
    {
      "cell_type": "code",
      "metadata": {
        "id": "0UHx55RPrJGR"
      },
      "source": [
        "'''\n",
        "The environment class for the Tic-Tac-Toe problem. Provides methods for initialising a state,\n",
        "checking whether the state is terminal or not,\n",
        "computing new states and rewards given state and action etc.\n",
        "'''\n",
        "\n",
        "class TicTacToe():\n",
        "    def __init__(self):\n",
        "        \"\"\"initialise the board\"\"\"\n",
        "        # initialise state as an array\n",
        "        # initialises the board position, can initialise to an array or matrix\n",
        "        self.reset()\n",
        "        # all possible numbers can initialise to an array or matrix\n",
        "        self.all_possible_numbers = [1,2] \n",
        "    def is_winning(self, curr_state):\n",
        "        \"\"\"Takes state as an input and returns whether any row, column or diagonal has winning sum\"\"\"\n",
        "        lines = [(0,1,2), (3,4,5), (6,7,8), (0,3,6), (1,4,7), (2,5,8), (0,4,8), (2,4,6)]\n",
        "        for line in lines:\n",
        "            if np.any(curr_state[line[0]]) and np.any(curr_state[line[0]]) and np.any(curr_state[line[0]]):\n",
        "                if (curr_state[line[0]]==curr_state[line[1]]==curr_state[line[2]]==1):\n",
        "                    return True\n",
        "                elif (curr_state[line[0]]==curr_state[line[1]]==curr_state[line[2]]==2):\n",
        "                    return True\n",
        "        return False\n",
        "    def is_terminal(self, curr_state):\n",
        "        # Terminal state could be winning state or when the board is filled up\n",
        "        if self.is_winning(curr_state) == True:\n",
        "            return True, 'Win'\n",
        "        elif len(self.allowed_positions(curr_state)) ==0:\n",
        "            return True, 'Tie'\n",
        "        else:\n",
        "            return False, 'Resume'\n",
        "    def allowed_positions(self,state):\n",
        "        return np.where(state == 0)[0]\n",
        "    def action_space(self, curr_state):\n",
        "        \"\"\"Takes the current state as input and returns all possible (unused) \n",
        "        values that can be placed on the board\"\"\"\n",
        "        used_values = self.allowed_positions(curr_state)\n",
        "        #used_values = [val for val in curr_state if not np.isnan(val)]\n",
        "        agent_values = [(val,1) for val in used_values]\n",
        "        env_values = [(val,2) for val in used_values]\n",
        "        return [agent_values, env_values]\n",
        "    def state_transition(self, curr_state, curr_action):\n",
        "        \"\"\"Takes current state and action and returns the board position just after agent's move.\"\"\"\n",
        "        position = curr_action[0]\n",
        "        value = curr_action[1]\n",
        "        curr_state[position] = value \n",
        "        return curr_state\n",
        "    def step(self, curr_state, curr_action):\n",
        "        \"\"\"Takes current state and action and returns the next state and reward. \n",
        "        First, check the board position after agent's move, whether the game is won/loss/tied. \n",
        "        Then incorporate environment's move and again check the board status.\"\"\"\n",
        "        terminal_state = False\n",
        "        used_values = np.where(curr_state!=0)[0]\n",
        "        temp_state = self.state_transition(curr_state, curr_action)\n",
        "        if [val for val in used_values if val == curr_action[0]]:\n",
        "            # illegal move \n",
        "            reward = -40\n",
        "            terminal_state = True\n",
        "            game_status = 'Illegal'\n",
        "        else:\n",
        "            terminal_state, game_status = self.is_terminal(temp_state)\n",
        "            if terminal_state == True:\n",
        "                if game_status == 'Win':\n",
        "                    reward=10\n",
        "                else:\n",
        "                    reward=0\n",
        "            else:\n",
        "                position,value = random.choice(self.action_space(temp_state)[1])\n",
        "                temp_state[position]= value\n",
        "                terminal_state, game_status = self.is_terminal(temp_state)\n",
        "                if terminal_state == True:\n",
        "                    if game_status == 'Win':\n",
        "                        reward=-10\n",
        "                        game_status = 'Loose'\n",
        "                    else:\n",
        "                        reward=0\n",
        "                else:\n",
        "                    reward=-1\n",
        "        return temp_state, reward, terminal_state,game_status\n",
        "    def reset(self):\n",
        "        self.state = np.zeros(9,dtype=int)\n",
        "        return self.state"
      ],
      "execution_count": 4,
      "outputs": []
    },
    {
      "cell_type": "code",
      "metadata": {
        "id": "FX9GkaQ4rWwk"
      },
      "source": [
        "class DQNAgent:\n",
        "    def __init__(self, state_size, action_size):\n",
        "        # Define size of state and action\n",
        "        self.state_size = state_size\n",
        "        self.action_size = action_size\n",
        "\n",
        "        # Write here: Specify you hyper parameters for the DQN\n",
        "        self.discount_factor = 0.95\n",
        "        self.learning_rate = 0.01 \n",
        "        self.epsilon_max = 1\n",
        "        self.epsilon_min = 0.01\n",
        "        self.epsilon_decay = -0.0005\n",
        "        self.epsilon = 1\n",
        "        \n",
        "        self.batch_size = 128\n",
        "        # create replay memory using deque\n",
        "        self.memory = deque(maxlen=1024)\n",
        "        # create main model and target model\n",
        "        self.model = self.build_model()\n",
        "\n",
        "    # approximate Q function using Neural Network\n",
        "    def build_model(self):\n",
        "        model = Sequential()\n",
        "        # Write your code here: Add layers to your neural nets       \n",
        "        model.add(Dense(32, input_dim=self.state_size, activation='relu', kernel_initializer='he_uniform'))\n",
        "        model.add(Dense(32, activation='relu', kernel_initializer='he_uniform'))\n",
        "        # the output layer: output is of size num_actions\n",
        "        model.add(Dense(self.action_size, activation='linear', kernel_initializer='he_uniform'))\n",
        "        model.compile(loss='mse',optimizer=Adam(lr=self.learning_rate))\n",
        "        #model.summary()\n",
        "        return model\n",
        "    \n",
        "    def encode(self,state):\n",
        "        en = en = np.zeros([9,3],dtype=int)\n",
        "        for i,l in enumerate(state):\n",
        "            en[i][l] = 1\n",
        "        return en.reshape(1,27)\n",
        "    \n",
        "    def update_epsilon(self,episode):\n",
        "        self.epsilon = (self.epsilon_max - self.epsilon_min) * np.exp(self.epsilon_decay * episode)\n",
        "\n",
        "    def get_action(self, state):\n",
        "        # get action from model using epsilon-greedy policy\n",
        "        # Decay in ε after we generate each sample from the environment\n",
        "        possible_actions = valid_actions(state)\n",
        "        if np.random.rand() <= self.epsilon:\n",
        "            return random.choice(possible_actions)\n",
        "        else :\n",
        "            q_value = self.model.predict(self.encode(state))\n",
        "            # truncate the array to only those actions that are part of the ride  requests.\n",
        "            return (np.argmax(q_value),1)\n",
        "        #self.epsilon = (self.epsilon_min + (self.epsilon_max - self.epsilon_min) * np.exp(-self.epsilon_decay*i))\n",
        "\n",
        "    def append_sample(self, curr_state, action, reward, next_state,done):\n",
        "        # save sample <s,a,r,s'> to the replay memory\n",
        "        #print(curr_state, action, reward, next_state,done)\n",
        "        self.memory.append((curr_state, action, reward, next_state, done))\n",
        "    \n",
        "    # pick samples randomly from replay memory (with batch_size) and train the network\n",
        "    def train_model(self):\n",
        "        if len(self.memory) > self.batch_size:\n",
        "            # Sample batch from the memory\n",
        "            mini_batch = random.sample(self.memory, self.batch_size)\n",
        "            update_output = np.zeros((self.batch_size, self.state_size))\n",
        "            update_input = np.zeros((self.batch_size, self.state_size))\n",
        "            \n",
        "            actions, rewards, done = [], [], []\n",
        "            \n",
        "            for i in range(self.batch_size):\n",
        "                state, action, reward, next_state, done_bool = mini_batch[i]\n",
        "                update_input[i] = self.encode(state)\n",
        "                actions.append(action)\n",
        "                rewards.append(reward)\n",
        "                done.append(done_bool)\n",
        "                update_output[i] = self.encode(next_state)\n",
        "                \n",
        "            # 1. Predict the target from earlier model\n",
        "            target = self.model.predict(update_input)    \n",
        "            # 2. Get the target for the Q-network\n",
        "            target_qval = self.model.predict(update_output)    \n",
        "                \n",
        "            #3. Update your 'update_output' and 'update_input' batch\n",
        "            for i in range(self.batch_size):\n",
        "                if not done[i]:\n",
        "                    # Only take the max q_value from valid actions from next state\n",
        "                    target[i][actions[i][0]] = rewards[i] + self.discount_factor * np.max(target_qval[i])\n",
        "                else:\n",
        "                    target[i][actions[i][0]] = rewards[i]\n",
        "                \n",
        "            # 4. Fit your model and track the loss values\n",
        "            self.model.fit(update_input, target, batch_size=self.batch_size, epochs=1, verbose=0)\n",
        "\n",
        "    def save(self, name):\n",
        "        self.model.save(name)"
      ],
      "execution_count": 5,
      "outputs": []
    },
    {
      "cell_type": "code",
      "metadata": {
        "colab": {
          "base_uri": "https://localhost:8080/"
        },
        "id": "miXsU2ourc6h",
        "outputId": "f8cfd49c-d362-4b41-844b-e89bebad4129"
      },
      "source": [
        "Episodes = 5000\n",
        "start_time = time.time()\n",
        "episode_time= time.time()\n",
        "agent_won = 0\n",
        "envn_won = 0\n",
        "tie_cnt = 0\n",
        "chk_prt_epsd = 500\n",
        "env = TicTacToe()\n",
        "agent = DQNAgent(3*3*3,3*3)\n",
        "score = 0\n",
        "status = 'Tie'\n",
        "ilcnt = 0\n",
        "wincnt = 0 \n",
        "locnt = 0\n",
        "ticnt = 0\n",
        "dfcnt = 0\n",
        "\n",
        "for episode in range(Episodes):\n",
        "    curr_state = []\n",
        "    curr_state = env.reset()\n",
        "    terminal_state = False\n",
        "    while not terminal_state:\n",
        "        state = curr_state.copy()\n",
        "        action = agent.get_action(state)\n",
        "        next_state, reward,terminal_state,status = env.step(state, action)\n",
        "        agent.append_sample(curr_state,action,reward,next_state,terminal_state)\n",
        "        curr_state = next_state\n",
        "        score += reward\n",
        "        agent.train_model()\n",
        "        \n",
        "    if status == 'Illegal':\n",
        "        ilcnt += 1;\n",
        "    elif status == 'Win':\n",
        "        wincnt += 1\n",
        "    elif status == 'Loose':\n",
        "        locnt += 1\n",
        "    elif status == 'Tie':\n",
        "        ticnt += 1\n",
        "    else:\n",
        "        dfcnt += 1\n",
        "    agent.update_epsilon(episode)\n",
        "    if (episode % chk_prt_epsd) == 0:\n",
        "        print(f'Episode: {episode} Epsilon: {agent.epsilon:.2f} Reward: {score} ElTime:{time.time() - episode_time:.2f}')\n",
        "        print(f'win:{wincnt} Lost:{locnt} Tie:{ticnt} Illegal:{ilcnt} Dlf:{dfcnt}')\n",
        "        score = 0\n",
        "        status = 'Tie'\n",
        "        ilcnt = 0\n",
        "        wincnt = 0 \n",
        "        locnt = 0\n",
        "        ticnt = 0\n",
        "        dfcnt = 0\n",
        "        episode_time = time.time()\n",
        "        "
      ],
      "execution_count": 7,
      "outputs": [
        {
          "output_type": "stream",
          "text": [
            "/usr/local/lib/python3.7/dist-packages/tensorflow/python/keras/optimizer_v2/optimizer_v2.py:375: UserWarning: The `lr` argument is deprecated, use `learning_rate` instead.\n",
            "  \"The `lr` argument is deprecated, use `learning_rate` instead.\")\n"
          ],
          "name": "stderr"
        },
        {
          "output_type": "stream",
          "text": [
            "Episode: 0 Epsilon: 0.99 Reward: 6 ElTime:0.02\n",
            "win:1 Lost:0 Tie:0 Illegal:0 Dlf:0\n",
            "Episode: 500 Epsilon: 0.77 Reward: -2809 ElTime:207.73\n",
            "win:251 Lost:144 Tie:46 Illegal:59 Dlf:0\n",
            "Episode: 1000 Epsilon: 0.60 Reward: -2652 ElTime:221.82\n",
            "win:272 Lost:121 Tie:41 Illegal:66 Dlf:0\n",
            "Episode: 1500 Epsilon: 0.47 Reward: -3935 ElTime:232.21\n",
            "win:253 Lost:106 Tie:44 Illegal:97 Dlf:0\n",
            "Episode: 2000 Epsilon: 0.36 Reward: -3936 ElTime:234.48\n",
            "win:261 Lost:95 Tie:42 Illegal:102 Dlf:0\n",
            "Episode: 2500 Epsilon: 0.28 Reward: -4659 ElTime:233.22\n",
            "win:261 Lost:83 Tie:31 Illegal:125 Dlf:0\n",
            "Episode: 3000 Epsilon: 0.22 Reward: -5780 ElTime:233.14\n",
            "win:236 Lost:94 Tie:25 Illegal:145 Dlf:0\n",
            "Episode: 3500 Epsilon: 0.17 Reward: -5265 ElTime:237.21\n",
            "win:249 Lost:78 Tie:34 Illegal:139 Dlf:0\n",
            "Episode: 4000 Epsilon: 0.13 Reward: -4239 ElTime:240.69\n",
            "win:282 Lost:75 Tie:20 Illegal:123 Dlf:0\n",
            "Episode: 4500 Epsilon: 0.10 Reward: -3678 ElTime:240.07\n",
            "win:299 Lost:74 Tie:14 Illegal:113 Dlf:0\n"
          ],
          "name": "stdout"
        }
      ]
    },
    {
      "cell_type": "code",
      "metadata": {
        "id": "T1hfqwSkBK1K"
      },
      "source": [
        "agent.model.save_weights('model12')"
      ],
      "execution_count": null,
      "outputs": []
    },
    {
      "cell_type": "code",
      "metadata": {
        "id": "jHrVHwKbBW59"
      },
      "source": [
        "agent.model.load_weights('model12')"
      ],
      "execution_count": null,
      "outputs": []
    }
  ]
}