{
 "cells": [
  {
   "cell_type": "code",
   "execution_count": 1,
   "metadata": {
    "id": "vhQOie0o4Ctn"
   },
   "outputs": [],
   "source": [
    "#numpy version = '1.20.2'\n",
    "#Keras version = '2.4.3'"
   ]
  },
  {
   "cell_type": "code",
   "execution_count": 2,
   "metadata": {
    "id": "Nw3zP9NuqxF5"
   },
   "outputs": [],
   "source": [
    "# importing  TicTacToe class from environment file\n",
    "import collections\n",
    "import numpy as np\n",
    "import random\n",
    "import pickle\n",
    "import time\n",
    "from matplotlib import pyplot as plt\n",
    "from collections import deque\n",
    "# for building DQN model\n",
    "from keras import layers\n",
    "from keras import Sequential\n",
    "from keras.layers import Dense, Activation, Flatten\n",
    "from keras.optimizers import Adam"
   ]
  },
  {
   "cell_type": "code",
   "execution_count": 3,
   "metadata": {
    "id": "z3WgiQRlrCMq"
   },
   "outputs": [],
   "source": [
    "'''\n",
    "The environment class for the Tic-Tac-Toe problem. Provides methods for initialising a state,\n",
    "checking whether the state is terminal or not,\n",
    "computing new states and rewards given state and action etc.\n",
    "'''\n",
    "\n",
    "class TicTacToe:\n",
    "    def __init__(self,grid_size):\n",
    "        \"\"\"initialise the board\"\"\"\n",
    "        # initialise state as an array\n",
    "        # initialises the board position, can initialise to an array or matrix\n",
    "        self.grid_size = grid_size\n",
    "        self.reset()\n",
    "        # all possible numbers can initialise to an array or matrix\n",
    "    def is_winning(self, curr_state):\n",
    "        \"\"\"Takes state as an input and returns whether any row, column or diagonal has winning sum\"\"\"\n",
    "        lines = [(0,1,2), (3,4,5), (6,7,8), (0,3,6), (1,4,7), (2,5,8), (0,4,8), (2,4,6)]\n",
    "        for line in lines:\n",
    "            if np.any(curr_state[line[0]]) and np.any(curr_state[line[0]]) and np.any(curr_state[line[0]]):\n",
    "                if (curr_state[line[0]]==curr_state[line[1]]==curr_state[line[2]]==1):\n",
    "                    return True\n",
    "                elif (curr_state[line[0]]==curr_state[line[1]]==curr_state[line[2]]==2):\n",
    "                    return True\n",
    "        return False\n",
    "    def is_terminal(self, curr_state):\n",
    "        # Terminal state could be winning state or when the board is filled up\n",
    "        if self.is_winning(curr_state) == True:\n",
    "            return True, 'Won'\n",
    "        elif len(self.allowed_positions(curr_state)) ==0:\n",
    "            # all space got filled\n",
    "            return True, 'Tie'\n",
    "        else:\n",
    "            return False, 'Resume'\n",
    "    def allowed_positions(self,state):\n",
    "        # zero represent state available\n",
    "        return np.where(state == 0)[0]\n",
    "    def valid_actions(self, curr_state,player):\n",
    "        \"\"\"Takes the current state as input and returns all possible (unused) \n",
    "        values that can be placed on the board\"\"\"\n",
    "        values = []\n",
    "        unused_values = self.allowed_positions(curr_state)\n",
    "        if player == \"agent\":\n",
    "            values = [(val,1) for val in unused_values]\n",
    "        elif player ==\"Env\":\n",
    "            values = [(val,2) for val in unused_values]\n",
    "        return values\n",
    "    def state_transition(self, curr_state, curr_action):\n",
    "        \"\"\"Takes current state and action and returns the board position just after agent's move.\"\"\"\n",
    "        position = curr_action[0]\n",
    "        value = curr_action[1]\n",
    "        curr_state[position] = value \n",
    "        return curr_state\n",
    "    def step(self, curr_state, curr_action):\n",
    "        \"\"\"Takes current state and action and returns the next state and reward. \n",
    "        First, check the board position after agent's move, whether the game is won/loss/tied. \n",
    "        Then incorporate environment's move and again check the board status.\"\"\"\n",
    "        terminal_state = False\n",
    "        used_values = np.where(curr_state!=0)[0]\n",
    "        temp_state = self.state_transition(curr_state, curr_action)\n",
    "        if [val for val in used_values if val == curr_action[0]]:\n",
    "            # illegal move \n",
    "            reward = -40\n",
    "            terminal_state = True\n",
    "            game_status = 'Illegal'\n",
    "        else:\n",
    "            terminal_state, game_status = self.is_terminal(temp_state)\n",
    "            if terminal_state == True:\n",
    "                if game_status == 'Won':\n",
    "                    reward=10\n",
    "                else:\n",
    "                    reward=0\n",
    "            else:\n",
    "                # make random move from Environment\n",
    "                position,value = random.choice(self.valid_actions(temp_state,\"Env\"))\n",
    "                # postion= input()\n",
    "                # position,value = list(map(int,postion.split(','))) \n",
    "                # print(f'\\n    Env played {position,value} move')\n",
    "                temp_state[position]= value\n",
    "                terminal_state, game_status = self.is_terminal(temp_state)\n",
    "                if terminal_state == True:\n",
    "                    if game_status == 'Won':\n",
    "                        reward=-10\n",
    "                        game_status = 'Lose'\n",
    "                    else:\n",
    "                        reward=0\n",
    "                else:\n",
    "                    reward=-1\n",
    "        return temp_state, reward, terminal_state,game_status\n",
    "    def reset(self):\n",
    "        self.state = np.zeros(self.grid_size,dtype=int)\n",
    "        return self.state"
   ]
  },
  {
   "cell_type": "code",
   "execution_count": 4,
   "metadata": {
    "colab": {
     "base_uri": "https://localhost:8080/",
     "height": 265
    },
    "id": "8Af68Gl4rEDc",
    "outputId": "95493caf-7e4a-4174-98ec-f35025ce6c6e"
   },
   "outputs": [
    {
     "data": {
      "image/png": "[encoded data removed]",
      "text/plain": [
       "<Figure size 432x288 with 1 Axes>"
      ]
     },
     "metadata": {
      "needs_background": "light",
      "tags": []
     },
     "output_type": "display_data"
    }
   ],
   "source": [
    "EPISODES = 10000\n",
    "max_epsilon = 1.0\n",
    "min_epsilon = 0.001\n",
    "decay_rate = -0.0005       # epsilon decay rate\n",
    "epsilon = []\n",
    "episd = np.arange(0,EPISODES)\n",
    "for i in range(0,EPISODES):\n",
    "    epsilon.append(min_epsilon + (max_epsilon - min_epsilon) * np.exp(decay_rate*i))\n",
    "\n",
    "plt.plot(episd, epsilon)\n",
    "plt.show()"
   ]
  },
  {
   "cell_type": "code",
   "execution_count": 5,
   "metadata": {
    "id": "0UHx55RPrJGR"
   },
   "outputs": [],
   "source": [
    "class DQNAgent:\n",
    "    def __init__(self, state_size, action_size):\n",
    "        # Define size of state and action\n",
    "        self.state_size = state_size\n",
    "        self.action_size = action_size\n",
    "\n",
    "        # Write here: Specify you hyper parameters for the DQN\n",
    "        self.discount_factor = 0.95\n",
    "        self.learning_rate = 0.01 \n",
    "        self.epsilon_max = 1\n",
    "        self.epsilon_min = 0.001\n",
    "        self.epsilon_decay = -0.0005\n",
    "        self.epsilon = 1\n",
    "        \n",
    "        self.batch_size = 64\n",
    "        # create replay memory using deque\n",
    "        self.memory = deque(maxlen=512)\n",
    "        # create q network model and target model\n",
    "        self.model = self.build_model()\n",
    "        # create target model\n",
    "        self.targetmodel = self.build_model()\n",
    "        # update target model\n",
    "        self.updateTmodel()\n",
    "\n",
    "    # approximate Q function using Neural Network\n",
    "    def build_model(self):\n",
    "        model = Sequential()\n",
    "        # Write your code here: Add layers to your neural nets       \n",
    "        model.add(Dense(32, input_dim=self.state_size, activation='relu', kernel_initializer='he_uniform'))\n",
    "        model.add(Dense(32, activation='relu', kernel_initializer='he_uniform'))\n",
    "        # the output layer: output is of size num_actions\n",
    "        model.add(Dense(self.action_size, activation='linear', kernel_initializer='he_uniform'))\n",
    "        model.compile(loss='mse',optimizer=Adam(lr=self.learning_rate))\n",
    "        #model.summary()\n",
    "        return model\n",
    "    \n",
    "    def encode(self,state):\n",
    "        en = en = np.zeros([9,3],dtype=int)\n",
    "        for i,l in enumerate(state):\n",
    "            en[i][l] = 1\n",
    "        return en.reshape(1,27)\n",
    "    \n",
    "    def updateTmodel(self):\n",
    "        # copy weights from model to targetmodel\n",
    "        self.targetmodel.set_weights(self.model.get_weights())\n",
    "    \n",
    "    def update_epsilon(self,episode):\n",
    "        self.epsilon = (self.epsilon_max - self.epsilon_min) * np.exp(self.epsilon_decay * episode)\n",
    "\n",
    "    def get_action(self, state,train=True):\n",
    "        # get action from model using epsilon-greedy policy\n",
    "        # Decay in ε after we generate each sample from the environment\n",
    "        possible_actions = env.valid_actions(state,\"agent\")\n",
    "        if np.random.rand() <= self.epsilon and train==True:\n",
    "            return random.choice(possible_actions)\n",
    "        else :\n",
    "            q_value = self.model.predict(self.encode(state))\n",
    "            # truncate the array to only those actions that are part of the ride  requests.\n",
    "            return (np.argmax(q_value),1)\n",
    "\n",
    "    def append_sample(self, curr_state, action, reward, next_state,done):\n",
    "        # save sample <s,a,r,s'> to the replay memory\n",
    "        #print(curr_state, action, reward, next_state,done)\n",
    "        self.memory.append((curr_state, action, reward, next_state, done))\n",
    "    \n",
    "    # pick samples randomly from replay memory (with batch_size) and train the network\n",
    "    def train_model(self):\n",
    "        if len(self.memory) > self.batch_size:\n",
    "            # Sample batch from the memory\n",
    "            mini_batch = random.sample(self.memory, self.batch_size)\n",
    "            update_output = np.zeros((self.batch_size, self.state_size))\n",
    "            update_input = np.zeros((self.batch_size, self.state_size))\n",
    "            \n",
    "            actions, rewards, done = [], [], []\n",
    "            \n",
    "            for i in range(self.batch_size):\n",
    "                state, action, reward, next_state, done_bool = mini_batch[i]\n",
    "                update_input[i] = self.encode(state)\n",
    "                actions.append(action)\n",
    "                rewards.append(reward)\n",
    "                done.append(done_bool)\n",
    "                update_output[i] = self.encode(next_state)\n",
    "                \n",
    "            # 1. Predict the target from earlier model\n",
    "            target = self.model.predict(update_input)    \n",
    "            #Get the s' from target model\n",
    "            target_qval = self.targetmodel.predict(update_output)\n",
    "            #3. Update your 'update_output' and 'update_input' batch\n",
    "            for i in range(self.batch_size):\n",
    "                if not done[i]:\n",
    "                    # Only take the max q_value from valid actions from next state\n",
    "                    target[i][actions[i][0]] = rewards[i] + self.discount_factor * np.max(target_qval[i])\n",
    "                else:\n",
    "                    target[i][actions[i][0]] = rewards[i]\n",
    "                \n",
    "            # 4. Fit your model and track the loss values\n",
    "            self.model.fit(update_input, target, batch_size=self.batch_size, epochs=1, verbose=0)\n",
    "\n",
    "    def save(self, name):\n",
    "        self.model.save(name)"
   ]
  },
  {
   "cell_type": "code",
   "execution_count": 6,
   "metadata": {
    "colab": {
     "base_uri": "https://localhost:8080/"
    },
    "id": "miXsU2ourc6h",
    "outputId": "e4536a02-bf60-4e02-d2e9-67fd2806c41c"
   },
   "outputs": [
    {
     "name": "stderr",
     "output_type": "stream",
     "text": [
      "/usr/local/lib/python3.7/dist-packages/tensorflow/python/keras/optimizer_v2/optimizer_v2.py:375: UserWarning: The `lr` argument is deprecated, use `learning_rate` instead.\n",
      "  \"The `lr` argument is deprecated, use `learning_rate` instead.\")\n"
     ]
    },
    {
     "name": "stdout",
     "output_type": "stream",
     "text": [
      "Episode: 0 Epsilon: 1.00 TotalReward: -4 ElpasedTime:0.76\n",
      "win:0 Lost:0 Tie:1 Illegal:0 Dlf:0\n",
      "Episode: 500 Epsilon: 0.78 TotalReward: -2394 ElpasedTime:229.23\n",
      "win:259 Lost:148 Tie:44 Illegal:49 Dlf:0\n",
      "Episode: 1000 Epsilon: 0.61 TotalReward: -3794 ElpasedTime:243.09\n",
      "win:256 Lost:93 Tie:54 Illegal:97 Dlf:0\n",
      "Episode: 1500 Epsilon: 0.47 TotalReward: -5100 ElpasedTime:245.10\n",
      "win:228 Lost:116 Tie:37 Illegal:119 Dlf:0\n",
      "Episode: 2000 Epsilon: 0.37 TotalReward: -6123 ElpasedTime:249.13\n",
      "win:226 Lost:82 Tie:39 Illegal:153 Dlf:0\n",
      "Episode: 2500 Epsilon: 0.29 TotalReward: -7333 ElpasedTime:256.54\n",
      "win:220 Lost:74 Tie:21 Illegal:185 Dlf:0\n",
      "Episode: 3000 Epsilon: 0.22 TotalReward: -5774 ElpasedTime:265.24\n",
      "win:254 Lost:68 Tie:22 Illegal:156 Dlf:0\n",
      "Episode: 3500 Epsilon: 0.17 TotalReward: -5306 ElpasedTime:263.43\n",
      "win:258 Lost:76 Tie:22 Illegal:144 Dlf:0\n",
      "Episode: 4000 Epsilon: 0.14 TotalReward: -3016 ElpasedTime:256.13\n",
      "win:320 Lost:53 Tie:19 Illegal:108 Dlf:0\n",
      "Episode: 4500 Epsilon: 0.11 TotalReward: -1744 ElpasedTime:256.44\n",
      "win:361 Lost:43 Tie:7 Illegal:89 Dlf:0\n",
      "Episode: 5000 Epsilon: 0.08 TotalReward: -2112 ElpasedTime:258.39\n",
      "win:354 Lost:38 Tie:9 Illegal:99 Dlf:0\n",
      "Episode: 5500 Epsilon: 0.06 TotalReward: -1444 ElpasedTime:263.27\n",
      "win:371 Lost:32 Tie:9 Illegal:88 Dlf:0\n",
      "Episode: 6000 Epsilon: 0.05 TotalReward: -2798 ElpasedTime:263.35\n",
      "win:348 Lost:28 Tie:7 Illegal:117 Dlf:0\n",
      "Episode: 6500 Epsilon: 0.04 TotalReward: -1751 ElpasedTime:262.85\n",
      "win:365 Lost:27 Tie:12 Illegal:96 Dlf:0\n",
      "Episode: 7000 Epsilon: 0.03 TotalReward: -2510 ElpasedTime:256.49\n",
      "win:339 Lost:47 Tie:10 Illegal:104 Dlf:0\n",
      "Episode: 7500 Epsilon: 0.02 TotalReward: -440 ElpasedTime:256.36\n",
      "win:381 Lost:43 Tie:12 Illegal:64 Dlf:0\n",
      "Episode: 8000 Epsilon: 0.02 TotalReward: 977 ElpasedTime:251.18\n",
      "win:414 Lost:41 Tie:7 Illegal:38 Dlf:0\n",
      "Episode: 8500 Epsilon: 0.01 TotalReward: 103 ElpasedTime:248.97\n",
      "win:397 Lost:37 Tie:9 Illegal:57 Dlf:0\n",
      "Episode: 9000 Epsilon: 0.01 TotalReward: 1837 ElpasedTime:254.10\n",
      "win:441 Lost:23 Tie:9 Illegal:27 Dlf:0\n",
      "Episode: 9500 Epsilon: 0.01 TotalReward: 1662 ElpasedTime:255.39\n",
      "win:438 Lost:22 Tie:9 Illegal:31 Dlf:0\n",
      "Total time consumed 255.75\n"
     ]
    }
   ],
   "source": [
    "Episodes = 10000\n",
    "start_time = time.time()\n",
    "episode_time= time.time()\n",
    "agent_won = 0\n",
    "envn_won = 0\n",
    "tie_cnt = 0\n",
    "chk_prt_epsd = 500\n",
    "env = TicTacToe(9)\n",
    "agent = DQNAgent(9*3,3*3)\n",
    "# agent.model.load_weights('model_ddqn/modelDDqn')\n",
    "# agent.updateTmodel()\n",
    "score = 0\n",
    "status = 'Tie'\n",
    "ilcnt = 0\n",
    "wincnt = 0 \n",
    "locnt = 0\n",
    "ticnt = 0\n",
    "dfcnt = 0\n",
    "\n",
    "for episode in range(Episodes):\n",
    "    curr_state = []\n",
    "    curr_state = env.reset()\n",
    "    terminal_state = False\n",
    "    while not terminal_state:\n",
    "        state = curr_state.copy()\n",
    "        action = agent.get_action(state)\n",
    "        next_state, reward,terminal_state,status = env.step(state, action)\n",
    "        agent.append_sample(curr_state,action,reward,next_state,terminal_state)\n",
    "        curr_state = next_state\n",
    "        score += reward\n",
    "        agent.train_model()\n",
    "        \n",
    "    if status == 'Illegal':\n",
    "        ilcnt += 1;\n",
    "    elif status == 'Won':\n",
    "        wincnt += 1\n",
    "    elif status == 'Lose':\n",
    "        locnt += 1\n",
    "    elif status == 'Tie':\n",
    "        ticnt += 1\n",
    "    else:\n",
    "        dfcnt += 1\n",
    "    agent.updateTmodel()\n",
    "    agent.update_epsilon(episode)\n",
    "    if (episode % chk_prt_epsd) == 0:\n",
    "        print(f'Episode: {episode} Epsilon: {agent.epsilon:.2f} TotalReward: {score} ElpasedTime:{time.time() - episode_time:.2f}')\n",
    "        print(f'win:{wincnt} Lost:{locnt} Tie:{ticnt} Illegal:{ilcnt} Dlf:{dfcnt}')\n",
    "        score = 0\n",
    "        status = 'Tie'\n",
    "        ilcnt = 0\n",
    "        wincnt = 0 \n",
    "        locnt = 0\n",
    "        ticnt = 0\n",
    "        dfcnt = 0\n",
    "        episode_time = time.time()\n",
    "print(f'Total time consumed {time.time() - episode_time:.2f}')        "
   ]
  },
  {
   "cell_type": "code",
   "execution_count": 7,
   "metadata": {
    "id": "T1hfqwSkBK1K"
   },
   "outputs": [],
   "source": [
    "agent.model.save_weights('model_ddqn/modelDDqn')"
   ]
  },
  {
   "cell_type": "code",
   "execution_count": 11,
   "metadata": {
    "colab": {
     "base_uri": "https://localhost:8080/"
    },
    "id": "jHrVHwKbBW59",
    "outputId": "b012dfe9-0d6a-4eac-c0ea-d4e60f72fb6b"
   },
   "outputs": [
    {
     "data": {
      "text/plain": [
       "<tensorflow.python.training.tracking.util.CheckpointLoadStatus at 0x7fd2bbe72d10>"
      ]
     },
     "execution_count": 11,
     "metadata": {
      "tags": []
     },
     "output_type": "execute_result"
    }
   ],
   "source": [
    "agent.model.load_weights('model_ddqn/modelDDqn')"
   ]
  },
  {
   "cell_type": "code",
   "execution_count": 8,
   "metadata": {
    "colab": {
     "base_uri": "https://localhost:8080/"
    },
    "id": "LIIRrvr9gIVe",
    "outputId": "22e4909f-ecd8-4c55-d183-b60b65b8b4ba"
   },
   "outputs": [
    {
     "name": "stdout",
     "output_type": "stream",
     "text": [
      "\n",
      "0|0|0\n",
      "\n",
      "0|0|0\n",
      "\n",
      "0|0|0\n",
      "Model: \"sequential_2\"\n",
      "_________________________________________________________________\n",
      "Layer (type)                 Output Shape              Param #   \n",
      "=================================================================\n",
      "dense_6 (Dense)              (None, 32)                896       \n",
      "_________________________________________________________________\n",
      "dense_7 (Dense)              (None, 32)                1056      \n",
      "_________________________________________________________________\n",
      "dense_8 (Dense)              (None, 9)                 297       \n",
      "=================================================================\n",
      "Total params: 2,249\n",
      "Trainable params: 2,249\n",
      "Non-trainable params: 0\n",
      "_________________________________________________________________\n",
      "None\n"
     ]
    },
    {
     "name": "stderr",
     "output_type": "stream",
     "text": [
      "/usr/local/lib/python3.7/dist-packages/tensorflow/python/keras/optimizer_v2/optimizer_v2.py:375: UserWarning: The `lr` argument is deprecated, use `learning_rate` instead.\n",
      "  \"The `lr` argument is deprecated, use `learning_rate` instead.\")\n"
     ]
    }
   ],
   "source": [
    "def print_state(state):\n",
    "    for i in range(0,9,3):\n",
    "        print(f\"\\n{state[i]}|{state[i+1]}|{state[i+2]}\")\n",
    "\n",
    "env = TicTacToe(9)\n",
    "agent = DQNAgent(9*3,9)\n",
    "agent.model.load_weights('model_ddqn/modelDDqn')\n",
    "print_state(env.state)\n",
    "print(agent.model.summary())"
   ]
  },
  {
   "cell_type": "code",
   "execution_count": null,
   "metadata": {
    "colab": {
     "base_uri": "https://localhost:8080/"
    },
    "id": "eOL1SXnTgS15",
    "outputId": "1478f641-15a3-4795-e249-0f8a9dd2dc5a"
   },
   "outputs": [
    {
     "name": "stdout",
     "output_type": "stream",
     "text": [
      "\n",
      "0|0|0\n",
      "\n",
      "0|0|0\n",
      "\n",
      "0|0|0\n",
      "\n",
      "1. Agent played (0, 1) move\n",
      "\n",
      "0|0|0\n",
      "\n",
      "0|0|0\n",
      "\n",
      "0|0|0\n",
      "4,2\n",
      "\n",
      "    Env played (4, 2) move\n",
      "Env Reward:-1, Game Status:Resume\n",
      "\n",
      "2. Agent played (2, 1) move\n",
      "\n",
      "1|0|0\n",
      "\n",
      "0|2|0\n",
      "\n",
      "0|0|0\n",
      "6,2\n",
      "\n",
      "    Env played (6, 2) move\n",
      "Env Reward:-1, Game Status:Resume\n",
      "\n",
      "3. Agent played (1, 1) move\n",
      "\n",
      "1|0|1\n",
      "\n",
      "0|2|0\n",
      "\n",
      "2|0|0\n",
      "Env Reward:10, Game Status:Won\n"
     ]
    }
   ],
   "source": [
    "terminal_state = False\n",
    "env.reset()\n",
    "print_state(env.state)\n",
    "cnt=1\n",
    "while(terminal_state != True):\n",
    "    action = agent.get_action(env.state,train=False)\n",
    "    print(f'\\n{cnt}. Agent played {action} move')\n",
    "    print_state(env.state)\n",
    "    _,reward,terminal_state,status = env.step(env.state, action)\n",
    "    print(f'Env Reward:{reward}, Game Status:{status}')\n",
    "    cnt +=1"
   ]
  },
  {
   "cell_type": "code",
   "execution_count": null,
   "metadata": {
    "colab": {
     "base_uri": "https://localhost:8080/"
    },
    "id": "nVYs8Zh0hTzA",
    "outputId": "098e2aa2-6775-4026-9c25-c0ecb14f3589"
   },
   "outputs": [
    {
     "name": "stdout",
     "output_type": "stream",
     "text": [
      "\n",
      "1|1|1\n",
      "\n",
      "0|2|0\n",
      "\n",
      "2|0|0\n"
     ]
    }
   ],
   "source": [
    "print_state(env.state)"
   ]
  },
  {
   "cell_type": "code",
   "execution_count": null,
   "metadata": {
    "id": "C1E7SqPShVPO"
   },
   "outputs": [],
   "source": []
  }
 ],
 "metadata": {
  "accelerator": "GPU",
  "colab": {
   "collapsed_sections": [],
   "name": "TicTacToe_DDqn.ipynb",
   "provenance": []
  },
  "kernelspec": {
   "display_name": "Python 3",
   "language": "python",
   "name": "python3"
  },
  "language_info": {
   "codemirror_mode": {
    "name": "ipython",
    "version": 3
   },
   "file_extension": ".py",
   "mimetype": "text/x-python",
   "name": "python",
   "nbconvert_exporter": "python",
   "pygments_lexer": "ipython3",
   "version": "3.7.9"
  }
 },
 "nbformat": 4,
 "nbformat_minor": 1
}
